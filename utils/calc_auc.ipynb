{
 "cells": [
  {
   "cell_type": "code",
   "execution_count": 5,
   "id": "4c6a4aea",
   "metadata": {},
   "outputs": [],
   "source": [
    "import numpy as np\n",
    "from sklearn.metrics import roc_curve\n",
    "from sklearn.metrics import auc"
   ]
  },
  {
   "cell_type": "code",
   "execution_count": 15,
   "id": "e4ab7f0e",
   "metadata": {},
   "outputs": [],
   "source": [
    "y = np.load('../parameters/label_list.npy')\n",
    "pred = np.load('../parameters/pred_list3.npy')\n",
    "pred = pred[0]"
   ]
  },
  {
   "cell_type": "code",
   "execution_count": 53,
   "id": "28b18fc1",
   "metadata": {},
   "outputs": [],
   "source": [
    "out = np.load('../parameters/out_list3.npy')\n",
    "out = out[0]"
   ]
  },
  {
   "cell_type": "code",
   "execution_count": 54,
   "id": "93bf8379",
   "metadata": {},
   "outputs": [
    {
     "name": "stdout",
     "output_type": "stream",
     "text": [
      "sklearn: 0.9534883720930232\n"
     ]
    }
   ],
   "source": [
    "fpr, tpr, thresholds = roc_curve(y, pred, pos_label=1)\n",
    "print(\"sklearn:\",auc(fpr, tpr))"
   ]
  },
  {
   "cell_type": "code",
   "execution_count": 55,
   "id": "fb765d1a",
   "metadata": {},
   "outputs": [],
   "source": [
    "TP = 0\n",
    "TN = 0\n",
    "FP = 0\n",
    "FN = 0\n",
    "for i in range(len(out)):\n",
    "    if y[i] == 1 and out[i] == 1:\n",
    "        TP += 1\n",
    "    elif y[i] == 0 and out[i] == 0:\n",
    "        TN += 1\n",
    "    elif y[i] == 0 and out[i] == 1:\n",
    "        FP += 1\n",
    "    else:\n",
    "        FN += 1"
   ]
  },
  {
   "cell_type": "code",
   "execution_count": 56,
   "id": "6f5325dd",
   "metadata": {},
   "outputs": [],
   "source": [
    "TPR = TP / (TP + FN)\n",
    "FPR = FP / (FP + TN)\n",
    "TNR = 1 - FPR\n",
    "FNR = 1 - TPR\n",
    "ACC = (TP + TN) / (TP + FP + FN + TN)\n",
    "recall = TPR\n",
    "precision = TP / (TP + FP)"
   ]
  },
  {
   "cell_type": "code",
   "execution_count": 57,
   "id": "1a8fc51a",
   "metadata": {},
   "outputs": [
    {
     "name": "stdout",
     "output_type": "stream",
     "text": [
      "TP:48, TF:116, FP:13, FN:7\n",
      "TPR:0.87, FPR:0.10, TNR:0.90, FNR:0.13, ACC:0.89, recall:0.87, precision:0.79\n"
     ]
    }
   ],
   "source": [
    "print(f\"TP:{TP}, TF:{TN}, FP:{FP}, FN:{FN}\")\n",
    "print(f\"TPR:{TPR:.2f}, FPR:{FPR:.2f}, TNR:{TNR:.2f}, FNR:{FNR:.2f}, ACC:{ACC:.2f}, recall:{recall:.2f}, precision:{precision:.2f}\")"
   ]
  },
  {
   "cell_type": "code",
   "execution_count": null,
   "id": "7912950e",
   "metadata": {},
   "outputs": [],
   "source": []
  }
 ],
 "metadata": {
  "kernelspec": {
   "display_name": "Python 3 (ipykernel)",
   "language": "python",
   "name": "python3"
  },
  "language_info": {
   "codemirror_mode": {
    "name": "ipython",
    "version": 3
   },
   "file_extension": ".py",
   "mimetype": "text/x-python",
   "name": "python",
   "nbconvert_exporter": "python",
   "pygments_lexer": "ipython3",
   "version": "3.9.12"
  }
 },
 "nbformat": 4,
 "nbformat_minor": 5
}
